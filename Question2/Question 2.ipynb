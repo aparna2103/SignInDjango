{
 "cells": [
  {
   "cell_type": "code",
   "execution_count": 10,
   "metadata": {},
   "outputs": [
    {
     "name": "stdout",
     "output_type": "stream",
     "text": [
      "Selected file paths: ('C:/Users/Aparn/OneDrive/Desktop/SignInOut/Question2/images/cat 1.jpg',)\n"
     ]
    }
   ],
   "source": [
    "import tkinter as tk\n",
    "from tkinter import filedialog\n",
    "\n",
    "r1 = tk.Tk()\n",
    "r1.withdraw()\n",
    "r1.update()\n",
    "\n",
    "paths = filedialog.askopenfilenames(\n",
    "    title='Please select images for uploading',\n",
    "    filetypes=[('Image Files', ('*.jpg', '*.png'))]\n",
    ")\n",
    "\n",
    "print('Selected file paths:', paths)\n",
    "labels = []\n",
    "for path_of_file in paths:\n",
    "    label = input(f\"Enter label for {path_of_file}: \")\n",
    "    labels.append(label)\n"
   ]
  },
  {
   "cell_type": "code",
   "execution_count": 11,
   "metadata": {},
   "outputs": [
    {
     "name": "stdout",
     "output_type": "stream",
     "text": [
      "C:/Users/Aparn/OneDrive/Desktop/SignInOut/Question2/images/cat 1.jpg\n"
     ]
    }
   ],
   "source": [
    "import random\n",
    "file_path_random = random.choice(paths)\n",
    "print(file_path_random)"
   ]
  },
  {
   "cell_type": "code",
   "execution_count": 14,
   "metadata": {},
   "outputs": [],
   "source": [
    "import cv2\n",
    "\n",
    "picture = cv2.imread(file_path_random)\n",
    "\n",
    "# Display the image\n",
    "cv2.imshow('Image', picture)\n",
    "\n",
    "points = []\n",
    "\n",
    "# Define a callback function to handle mouse events\n",
    "def mouse_callback(event, x, y, flags, param):\n",
    "    global points\n",
    "    if event == cv2.EVENT_LBUTTONDOWN:\n",
    "        points.append((x, y))\n",
    "        if len(points) > 1:\n",
    "            cv2.line(picture, points[-2], points[-1], (0, 0, 255), 2)\n",
    "        cv2.imshow('Image', picture)\n",
    "\n",
    "cv2.setMouseCallback('Image', mouse_callback)\n",
    "cv2.waitKey(0)\n",
    "cv2.destroyAllWindows()"
   ]
  },
  {
   "cell_type": "code",
   "execution_count": 15,
   "metadata": {},
   "outputs": [
    {
     "data": {
      "text/plain": [
       "True"
      ]
     },
     "execution_count": 15,
     "metadata": {},
     "output_type": "execute_result"
    }
   ],
   "source": [
    "import numpy as np\n",
    "masking = np.zeros(picture.shape[:2], np.uint8)\n",
    "cv2.fillPoly(masking, [np.array(points)], 255)\n",
    "\n",
    "cv2.imwrite('images/mask.jpg', masking)"
   ]
  },
  {
   "cell_type": "code",
   "execution_count": 17,
   "metadata": {},
   "outputs": [
    {
     "data": {
      "text/plain": [
       "True"
      ]
     },
     "execution_count": 17,
     "metadata": {},
     "output_type": "execute_result"
    }
   ],
   "source": [
    "import cv2\n",
    "import numpy as np\n",
    "\n",
    "image = cv2.imread(\"images/mask.jpg\")\n",
    "row,col,ch= image.shape\n",
    "mean = 0\n",
    "var = 2\n",
    "sigma = 40\n",
    "gauss = np.random.normal(mean,sigma,(row,col,ch))\n",
    "gauss = gauss.reshape(row,col,ch)\n",
    "noise = image + gauss\n",
    "cv2.imwrite('images/mask_noisy.jpg', noise)"
   ]
  }
 ],
 "metadata": {
  "kernelspec": {
   "display_name": "SignInOut",
   "language": "python",
   "name": "python3"
  },
  "language_info": {
   "codemirror_mode": {
    "name": "ipython",
    "version": 3
   },
   "file_extension": ".py",
   "mimetype": "text/x-python",
   "name": "python",
   "nbconvert_exporter": "python",
   "pygments_lexer": "ipython3",
   "version": "3.10.0"
  },
  "orig_nbformat": 4
 },
 "nbformat": 4,
 "nbformat_minor": 2
}
