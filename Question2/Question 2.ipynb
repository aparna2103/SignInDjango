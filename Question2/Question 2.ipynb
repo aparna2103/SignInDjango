{
 "cells": [
  {
   "cell_type": "code",
   "execution_count": 2,
   "metadata": {},
   "outputs": [
    {
     "name": "stdout",
     "output_type": "stream",
     "text": [
      "Selected file paths: ('C:/Users/Aparn/OneDrive/Desktop/SignInOut/Question2/images/cat1.jpg',)\n"
     ]
    }
   ],
   "source": [
    "import tkinter as tk\n",
    "from tkinter import filedialog\n",
    "\n",
    "r1 = tk.Tk()\n",
    "r1.withdraw()\n",
    "r1.update()\n",
    "\n",
    "paths = filedialog.askopenfilenames(\n",
    "    title='Please select images for uploading',\n",
    "    filetypes=[('Image Files', ('*.jpg', '*.png'))]\n",
    ")\n",
    "\n",
    "print('Selected file paths:', paths)\n",
    "labels = []\n",
    "for path_of_file in paths:\n",
    "    label = input(f\"Enter label for {path_of_file}: \")\n",
    "    labels.append(label)\n"
   ]
  }
 ],
 "metadata": {
  "kernelspec": {
   "display_name": "SignInOut",
   "language": "python",
   "name": "python3"
  },
  "language_info": {
   "codemirror_mode": {
    "name": "ipython",
    "version": 3
   },
   "file_extension": ".py",
   "mimetype": "text/x-python",
   "name": "python",
   "nbconvert_exporter": "python",
   "pygments_lexer": "ipython3",
   "version": "3.10.0"
  },
  "orig_nbformat": 4
 },
 "nbformat": 4,
 "nbformat_minor": 2
}
